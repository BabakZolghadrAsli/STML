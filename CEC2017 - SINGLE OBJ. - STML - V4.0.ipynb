{
 "cells": [
  {
   "cell_type": "markdown",
   "id": "bb48483b",
   "metadata": {},
   "source": [
    "## STML"
   ]
  },
  {
   "cell_type": "code",
   "execution_count": 1,
   "id": "a7dd1a2d",
   "metadata": {},
   "outputs": [],
   "source": [
    "import numpy as np\n",
    "import matplotlib.pyplot as plt\n",
    "from cec2017.functions import *\n",
    "import pandas as pd\n",
    "import time\n",
    "\n",
    "%matplotlib inline"
   ]
  },
  {
   "cell_type": "code",
   "execution_count": 2,
   "id": "9a7a9979",
   "metadata": {},
   "outputs": [],
   "source": [
    "def boundery_checker(pop, min_val, max_val):\n",
    "    adj_pop = np.where(pop<min_val, min_val, pop)\n",
    "    adj_pop = np.where(adj_pop>max_val, max_val, adj_pop)\n",
    "    return adj_pop\n",
    "\n",
    "def init_genrator_tlbo(min_val, max_val, num_variables, pop_size):\n",
    "    return np.random.uniform(min_val, max_val, (pop_size, num_variables))\n",
    "\n",
    "def sorting_pop(pop, obj_func):\n",
    "    results = obj_func(pop)\n",
    "    indeces = np.argsort(results)\n",
    "    return pop[indeces]\n",
    "\n",
    "def teacher_phase(pop, pop_size, obj_func, min_val, max_val):\n",
    "    teacher = pop[0]\n",
    "    center = np.mean(pop, axis=0)\n",
    "    rand = np.random.uniform(0,1,size=(pop_size,1))\n",
    "    teacher_factor = np.random.choice(np.arange(1,3), size=(pop_size,1))\n",
    "    diff = rand*(teacher-center*teacher_factor)\n",
    "    pop_new = pop + diff\n",
    "    pop_new = boundery_checker(pop_new, min_val, max_val)\n",
    "    results = obj_func(pop)\n",
    "    results_new = obj_func(pop_new)\n",
    "    return np.where((results_new<results).reshape(-1,1), pop_new, pop)\n",
    "\n",
    "def learner_phase(pop, pop_size, obj_func, min_val, max_val):\n",
    "    rand = np.random.uniform(0,1,size=(pop_size,1))\n",
    "    pop_new = np.zeros_like(pop)\n",
    "    for i in range(pop_size):\n",
    "        x, y = np.sort(np.random.choice(np.arange(pop_size), size=2, replace=False))\n",
    "        pop_new[i] = pop[i] + rand[i]*(pop[x]-pop[y])\n",
    "    pop_new = boundery_checker(pop_new, min_val, max_val)\n",
    "    pop_overall = np.concatenate((pop, pop_new), axis=0)\n",
    "    pop_overall = sorting_pop(pop_overall, obj_func)\n",
    "    return pop_overall[:pop_size]\n",
    "\n",
    "def tlbo(pop_size, iteration, min_val, max_val, num_variables, obj_func):\n",
    "    NFE_value = 0\n",
    "    pop = init_genrator_tlbo(min_val, max_val, num_variables, pop_size)\n",
    "    pop = sorting_pop(pop, obj_func)\n",
    "    for i in range(iteration):\n",
    "        pop = teacher_phase(pop, pop_size, obj_func, min_val, max_val)\n",
    "        pop = sorting_pop(pop, obj_func)\n",
    "        pop = learner_phase(pop, pop_size, obj_func, min_val, max_val)\n",
    "        NFE_value += (3*pop_size)\n",
    "    return pop[0], obj_func([pop[0]]), NFE_value\n",
    "\n",
    "def init_generator(pop_size_min, pop_size_max, iteration_min, iteration_max):\n",
    "    return np.random.uniform(np.array([pop_size_min,iteration_min]),np.array([pop_size_max,iteration_max]),size=2).astype(int)\n",
    "\n",
    "def exploratory_move(X, mu, NFE_value, min_val, max_val, num_variables, obj_func):\n",
    "    mesh = (mu*np.eye(len(X)) + X).astype(int)\n",
    "    sim_results = np.zeros(shape=(len(mesh), num_variables))\n",
    "    eval_results = np.zeros(len(mesh))\n",
    "    for index in range(len(mesh)):\n",
    "        array, of_best, NFE = tlbo(mesh[index][0], mesh[index][1], min_val, max_val, num_variables, obj_func)\n",
    "        sim_results[index] = array\n",
    "        eval_results[index] = of_best\n",
    "        NFE_value += NFE\n",
    "    return mesh, eval_results, sim_results, NFE_value  \n",
    "\n",
    "def pattern_move(current_base, previous_base, NFE_value, min_val, max_val, num_variables, obj_func, alpha,\n",
    "                 pop_size_min, pop_size_max, iteration_min, iteration_max):\n",
    "    current_base, previous_base = np.array(current_base), np.array(previous_base) #????\n",
    "    X_new = previous_base + alpha*(current_base-previous_base)\n",
    "    sim_result, of_new, NFE = tlbo(X_new[0], X_new[1], min_val, max_val, num_variables, obj_func)\n",
    "    NFE_value += NFE\n",
    "    return X_new.astype(int), sim_result, of_new, NFE_value\n",
    "\n",
    "def mega_algorithem(obj_func, min_val, max_val, num_variables, \n",
    "                    pop_size_min=10, pop_size_max=50, iteration_min=20, iteration_max=500,\n",
    "                    mu_const=5, alpha=2, delta=1, final_step_size=1):\n",
    "    num_s_patt = 0\n",
    "    num_s_explore = 0\n",
    "    results_list = list()\n",
    "    NFE_list = list()\n",
    "    hypr_list = list()\n",
    "    NFE_value = 0\n",
    "    X = init_generator(pop_size_min, pop_size_max, iteration_min, iteration_max)\n",
    "    setting, best_of, NFE = tlbo(X[0], X[1], min_val, max_val, num_variables, obj_func)\n",
    "    NFE_value += NFE\n",
    "    mu = mu_const\n",
    "    hypr_list.append(X)\n",
    "    results_list.append(best_of[0])\n",
    "    NFE_list.append(NFE_value)\n",
    "    while mu > final_step_size:\n",
    "        mesh, eval_results, new_settings, NFE_value = exploratory_move(X, mu, NFE_value, min_val, max_val,\n",
    "                                                                       num_variables, obj_func)\n",
    "        if np.min(eval_results) < best_of:\n",
    "            num_s_explore += 1\n",
    "            mu = mu_const\n",
    "            best_of = np.array([np.min(eval_results)])\n",
    "            current_base = mesh[np.argmin(eval_results)]\n",
    "            previous_base = X\n",
    "            setting = new_settings[np.argmin(eval_results)]\n",
    "            hypr_list.append(current_base)\n",
    "            results_list.append(best_of[0])\n",
    "            NFE_list.append(NFE_value)\n",
    "            while True:\n",
    "                X_new, sim_result, of_new, NFE_value = pattern_move(current_base, previous_base, NFE_value,min_val,\n",
    "                                                                    max_val, num_variables, obj_func, alpha,\n",
    "                                                                    pop_size_min, pop_size_max, iteration_min,\n",
    "                                                                    iteration_max)\n",
    "                if of_new < best_of:\n",
    "                    num_s_patt += 1\n",
    "                    previous_base = current_base\n",
    "                    current_base, best_of = X_new, of_new\n",
    "                    setting = sim_result\n",
    "                    hypr_list.append(current_base)\n",
    "                    results_list.append(best_of[0])\n",
    "                    NFE_list.append(NFE_value)\n",
    "                    mesh, eval_results, new_settings, NFE_value = exploratory_move(current_base, mu, NFE_value, min_val,\n",
    "                                                                                   max_val, num_variables, obj_func)\n",
    "                    if np.min(eval_results) < best_of:\n",
    "                        num_s_explore += 1\n",
    "                        best_of = np.array([np.min(eval_results)])\n",
    "                        previous_base = current_base\n",
    "                        current_base = mesh[np.argmin(eval_results)]\n",
    "                        setting = new_settings[np.argmin(eval_results)]\n",
    "                        hypr_list.append(current_base)\n",
    "                        results_list.append(best_of[0])\n",
    "                        NFE_list.append(NFE_value)\n",
    "                else:\n",
    "                    mu -= delta\n",
    "                    X = current_base\n",
    "                    hypr_list.append(current_base)\n",
    "                    results_list.append(best_of[0])\n",
    "                    NFE_list.append(NFE_value)\n",
    "                    break\n",
    "        else:\n",
    "            mu -= delta\n",
    "            hypr_list.append(X)\n",
    "            results_list.append(best_of[0])\n",
    "            NFE_list.append(NFE_value)\n",
    "    return setting, best_of, results_list, NFE_list, X, hypr_list, (num_s_explore, num_s_patt)"
   ]
  },
  {
   "cell_type": "markdown",
   "id": "43ce68be",
   "metadata": {},
   "source": [
    "# Benchmarks\n",
    "\n",
    "There are over 30 functions here in this suit. We have to test all of them. \n",
    "\n",
    "* From what Ramiz told me `num_variables` should be **{2, 10, 20, 30, 50, 100}**; We have come to the conclusion that for now, perhaps it is best to stick with only 10; Depending on the runtime, we may be able to expand this a bit further. \n",
    "\n",
    "* Make sure that you manually change the `func_name` as this would be saved later on in the files. "
   ]
  },
  {
   "cell_type": "code",
   "execution_count": 3,
   "id": "b983f203",
   "metadata": {},
   "outputs": [],
   "source": [
    "obj_func = f3\n",
    "func_name = 'f9'\n",
    "alg_name = 'STML'\n",
    "num_variables = 10\n",
    "min_val, max_val = -100, 100\n",
    "\n",
    "pop_size_min, pop_size_max = 100, 200\n",
    "iteration_min, iteration_max = 500, 750"
   ]
  },
  {
   "cell_type": "markdown",
   "id": "0dbb4e34",
   "metadata": {},
   "source": [
    "**PARAMETER TUNING**\n",
    "\n",
    "This part I added just to make sure that you can do some prameter tuning, after the parameters are set and you are comfortable you can move on to the next phase with the set parameters. \n",
    "\n",
    "**HINT**: I sperated the *algorithm's parameters* from the rest of the model variables so that you know what you should play with. "
   ]
  },
  {
   "cell_type": "code",
   "execution_count": 4,
   "id": "a245f222",
   "metadata": {},
   "outputs": [
    {
     "name": "stdout",
     "output_type": "stream",
     "text": [
      "Best OF ====================\n",
      "[300.]\n",
      "Variables ==================\n",
      "[-55.93832662   4.54306541  35.30007021   8.27944086 -47.43694278\n",
      "   7.30209959   6.38766595  -2.49783142 -61.05355707 -47.13399635]\n",
      "second layer parametr ==================\n",
      "[103 502]\n",
      "Number of successful Exploratory & Pattern moves\n",
      "Exploratory: 0; Pattren: 0\n",
      "Time ======================\n",
      "Time: 0 min and 11.05 s\n"
     ]
    }
   ],
   "source": [
    "start_time = time.time()\n",
    "X, best_of, results_list, NFE_list, setting, setting_list, nums = mega_algorithem(obj_func, min_val, max_val,\n",
    "                                                                                  num_variables, pop_size_min,\n",
    "                                                                                  pop_size_max, iteration_min,\n",
    "                                                                                  iteration_max)\n",
    "end_time = time.time()\n",
    "minute = (end_time-start_time)//60\n",
    "second = (end_time-start_time)-60*minute\n",
    "print('Best OF', '='*20)\n",
    "print(best_of)\n",
    "print('Variables', '='*18)\n",
    "print(X)\n",
    "print('second layer parametr', '='*18)\n",
    "print(setting)\n",
    "print('Number of successful Exploratory & Pattern moves')\n",
    "print('Exploratory: %d; Pattren: %d'%nums)\n",
    "print('Time', '='*22)\n",
    "print('Time: %d min and %.2f s'%(minute, second))"
   ]
  },
  {
   "cell_type": "code",
   "execution_count": 5,
   "id": "5dd3aef3",
   "metadata": {
    "scrolled": false
   },
   "outputs": [
    {
     "data": {
      "image/png": "[encoded data removed]",
      "text/plain": [
       "<Figure size 432x288 with 1 Axes>"
      ]
     },
     "metadata": {
      "needs_background": "light"
     },
     "output_type": "display_data"
    }
   ],
   "source": [
    "fig = plt.plot(NFE_list, results_list)\n",
    "fig = plt.grid(alpha=.5)\n",
    "fig = plt.margins(0,.05)\n",
    "fig = plt.axhline(best_of,ls='--',alpha=.5,c='r')\n",
    "\n",
    "plt.tight_layout()"
   ]
  },
  {
   "cell_type": "code",
   "execution_count": 69,
   "id": "c3f85186",
   "metadata": {
    "scrolled": true
   },
   "outputs": [
    {
     "data": {
      "text/plain": [
       "[1736.0816379103717,\n",
       " 1151.6441992066068,\n",
       " 1080.1473855450708,\n",
       " 942.3022812354686,\n",
       " 942.3022812354686,\n",
       " 942.3022812354686,\n",
       " 942.3022812354686,\n",
       " 942.3022812354686]"
      ]
     },
     "execution_count": 69,
     "metadata": {},
     "output_type": "execute_result"
    }
   ],
   "source": [
    "results_list"
   ]
  },
  {
   "cell_type": "code",
   "execution_count": 70,
   "id": "72b2077c",
   "metadata": {
    "scrolled": true
   },
   "outputs": [
    {
     "data": {
      "text/plain": [
       "[array([13, 99]),\n",
       " array([18, 99]),\n",
       " array([23, 99]),\n",
       " array([28, 99]),\n",
       " array([28, 99]),\n",
       " array([28, 99]),\n",
       " array([28, 99]),\n",
       " array([28, 99])]"
      ]
     },
     "execution_count": 70,
     "metadata": {},
     "output_type": "execute_result"
    }
   ],
   "source": [
    "setting_list"
   ]
  },
  {
   "cell_type": "code",
   "execution_count": 71,
   "id": "751eedec",
   "metadata": {
    "scrolled": true
   },
   "outputs": [
    {
     "data": {
      "text/plain": [
       "[3861, 13263, 20094, 35586, 45387, 63543, 81318, 98712]"
      ]
     },
     "execution_count": 71,
     "metadata": {},
     "output_type": "execute_result"
    }
   ],
   "source": [
    "NFE_list"
   ]
  },
  {
   "cell_type": "markdown",
   "id": "df694f06",
   "metadata": {},
   "source": [
    "**INDEPENDENT RUNS**\n",
    "\n",
    "`num_runs` should be around **50**, but what you can do alternatively is breaking down the task to smaller ones by doing smaller number of runs and saving and storing the files; After a manual evaluation we can detemrine how many of these are not accaptable and we should do a re-run."
   ]
  },
  {
   "cell_type": "code",
   "execution_count": 7,
   "id": "a91f30bd",
   "metadata": {},
   "outputs": [
    {
     "name": "stdout",
     "output_type": "stream",
     "text": [
      "Counter: 1\n",
      "Counter: 2\n"
     ]
    }
   ],
   "source": [
    "num_runs = 80\n",
    "\n",
    "overall_result = pd.DataFrame(columns=['Function', 'Algorithm', 'best_OF', 'NFE', 'time (s)',\n",
    "                                       'Parameters', 'Best DVs', '#Succ Explr+Patrr moves'])\n",
    "for i in range(num_runs):\n",
    "    print('Counter: %d'%(i+1))\n",
    "    start_time = time.time()\n",
    "    X, best_of, results_list, NFE_list, setting, setting_list, nums = mega_algorithem(obj_func, min_val, max_val,\n",
    "                                                                                      num_variables, pop_size_min,\n",
    "                                                                                      pop_size_max, iteration_min,\n",
    "                                                                                      iteration_max)\n",
    "    end_time = time.time()\n",
    "    overall_result = overall_result.append({'Function':func_name, 'Algorithm':alg_name, \n",
    "                                            'best_OF':best_of,'NFE':NFE_list[0],\n",
    "                                            'time (s)':end_time-start_time,\n",
    "                                            'Parameters':{'pop_size':setting[0],'iteration': setting[1]},\n",
    "                                            'Best DVs': X, '#Succ Explr+Patrr moves': nums},\n",
    "                                           ignore_index=True)\n",
    "overall_result.to_csv(alg_name+'_'+func_name+'_result.csv')"
   ]
  },
  {
   "cell_type": "markdown",
   "id": "af10e521",
   "metadata": {},
   "source": [
    "**ANALYSE THE DATAFRAME**"
   ]
  },
  {
   "cell_type": "code",
   "execution_count": 21,
   "id": "10417529",
   "metadata": {},
   "outputs": [],
   "source": [
    "#ADD STAT TEST!\n",
    "#AFTER THIS WE NEED TO MAKE IT READ THE FINAL CSV FILE AND ANALSYE; NOT NOW!!!!\n",
    "\n",
    "summary_report = pd.DataFrame(columns=['Best outcome', 'Worst outcome', 'Avr. of outcomes',\n",
    "                                       'Median of outcomes', 'Std of outcome', 'Avr. runtime (s)',\n",
    "                                       'Fastest runtime (s)', 'Slowest runtime (s)', 'Avr. NFE'])\n",
    "bst_out = overall_result['best_OF'].min()\n",
    "wrst_out = overall_result['best_OF'].max()\n",
    "avr_out = overall_result['best_OF'].mean()\n",
    "median_out = overall_result['best_OF'].median()\n",
    "std_out = overall_result['best_OF'].std()\n",
    "avr_time = overall_result['time (s)'].mean()\n",
    "fst_time = overall_result['time (s)'].min()\n",
    "slwst_time = overall_result['time (s)'].max()\n",
    "avr_NFE = overall_result['NFE'].mean()\n",
    "\n",
    "summary_report = summary_report.append({'Best outcome':bst_out, 'Worst outcome':wrst_out,\n",
    "                                        'Avr. of outcomes':avr_out, 'Median of outcomes':median_out,\n",
    "                                        'Std of outcome':std_out, 'Avr. runtime (s)':avr_time,\n",
    "                                        'Fastest runtime (s)':fst_time, 'Slowest runtime (s)':slwst_time,\n",
    "                                        'Avr. NFE':avr_NFE}, ignore_index=True)\n",
    "\n",
    "summary_report.to_csv(alg_name+'_'+func_name+'_summary_report.csv')"
   ]
  },
  {
   "cell_type": "code",
   "execution_count": 22,
   "id": "74c2114f",
   "metadata": {},
   "outputs": [
    {
     "data": {
      "text/html": [
       "<div>\n",
       "<style scoped>\n",
       "    .dataframe tbody tr th:only-of-type {\n",
       "        vertical-align: middle;\n",
       "    }\n",
       "\n",
       "    .dataframe tbody tr th {\n",
       "        vertical-align: top;\n",
       "    }\n",
       "\n",
       "    .dataframe thead th {\n",
       "        text-align: right;\n",
       "    }\n",
       "</style>\n",
       "<table border=\"1\" class=\"dataframe\">\n",
       "  <thead>\n",
       "    <tr style=\"text-align: right;\">\n",
       "      <th></th>\n",
       "      <th>Avr. of outcomes</th>\n",
       "      <th>Slowest runtime (s)</th>\n",
       "      <th>Best outcome</th>\n",
       "      <th>Median of outcomes</th>\n",
       "      <th>Std of outcome</th>\n",
       "      <th>Fastest runtime (s)</th>\n",
       "      <th>Avr. runtime (s)</th>\n",
       "      <th>Avr. NFE</th>\n",
       "      <th>Worst outcome</th>\n",
       "    </tr>\n",
       "  </thead>\n",
       "  <tbody>\n",
       "    <tr>\n",
       "      <th>0</th>\n",
       "      <td>2578.197574</td>\n",
       "      <td>2.39129</td>\n",
       "      <td>300.000002</td>\n",
       "      <td>304.833635</td>\n",
       "      <td>3801.992696</td>\n",
       "      <td>0.184492</td>\n",
       "      <td>1.142213</td>\n",
       "      <td>17248.2</td>\n",
       "      <td>10194.146099</td>\n",
       "    </tr>\n",
       "  </tbody>\n",
       "</table>\n",
       "</div>"
      ],
      "text/plain": [
       "   Avr. of outcomes  Slowest runtime (s)  Best outcome  Median of outcomes  \\\n",
       "0       2578.197574              2.39129    300.000002          304.833635   \n",
       "\n",
       "   Std of outcome  Fastest runtime (s)  Avr. runtime (s)  Avr. NFE  \\\n",
       "0     3801.992696             0.184492          1.142213   17248.2   \n",
       "\n",
       "   Worst outcome  \n",
       "0   10194.146099  "
      ]
     },
     "execution_count": 22,
     "metadata": {},
     "output_type": "execute_result"
    }
   ],
   "source": [
    "summary_report"
   ]
  }
 ],
 "metadata": {
  "kernelspec": {
   "display_name": "Python 3 (ipykernel)",
   "language": "python",
   "name": "python3"
  },
  "language_info": {
   "codemirror_mode": {
    "name": "ipython",
    "version": 3
   },
   "file_extension": ".py",
   "mimetype": "text/x-python",
   "name": "python",
   "nbconvert_exporter": "python",
   "pygments_lexer": "ipython3",
   "version": "3.9.13"
  }
 },
 "nbformat": 4,
 "nbformat_minor": 5
}
